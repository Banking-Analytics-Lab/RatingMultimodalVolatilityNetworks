{
 "cells": [
  {
   "cell_type": "code",
   "id": "initial_id",
   "metadata": {
    "collapsed": true
   },
   "source": [
    "import numpy as np\n",
    "import pandas as pd"
   ],
   "outputs": [],
   "execution_count": null
  },
  {
   "metadata": {},
   "cell_type": "code",
   "source": "old_data = pd.read_csv('../Data/imputed_data_new.csv')",
   "id": "a1a53396e5b5865e",
   "outputs": [],
   "execution_count": null
  },
  {
   "metadata": {},
   "cell_type": "code",
   "source": "new_data = pd.read_csv('../Data/data_new_raw_full_4.csv')",
   "id": "3421c906f234cb72",
   "outputs": [],
   "execution_count": null
  },
  {
   "metadata": {},
   "cell_type": "code",
   "source": [
    "data_before_2018 = new_data[new_data['year'] < 2018]\n",
    "data_after_2017 = new_data[new_data['year'] >= 2018]"
   ],
   "id": "8e95046afbc30a2d",
   "outputs": [],
   "execution_count": null
  },
  {
   "metadata": {},
   "cell_type": "code",
   "source": "data_before_2018['tic'].nunique(), data_after_2017['tic'].nunique()",
   "id": "7047b04af5991951",
   "outputs": [],
   "execution_count": null
  },
  {
   "metadata": {},
   "cell_type": "code",
   "source": [
    "tics_only_after_2017 = set(data_after_2017['tic'].unique()) - set(data_before_2018['tic'].unique())\n",
    "len(tics_only_after_2017)"
   ],
   "id": "16d766e7dbc27abe",
   "outputs": [],
   "execution_count": null
  },
  {
   "metadata": {},
   "cell_type": "code",
   "source": "data_after_2017[data_after_2017['tic'].isin(tics_only_after_2017)][['tic', 'year', 'quarter', 'pastrating']]",
   "id": "fcd443296b39bcb5",
   "outputs": [],
   "execution_count": null
  },
  {
   "metadata": {},
   "cell_type": "code",
   "source": "len(old_data), len(new_data)",
   "id": "16c7cfe83eaed77b",
   "outputs": [],
   "execution_count": null
  },
  {
   "metadata": {},
   "cell_type": "code",
   "source": "old_data.head()",
   "id": "50ce3257e1c743d4",
   "outputs": [],
   "execution_count": null
  },
  {
   "metadata": {},
   "cell_type": "code",
   "source": "new_data.head()",
   "id": "2d3f56af9212100",
   "outputs": [],
   "execution_count": null
  },
  {
   "metadata": {},
   "cell_type": "code",
   "source": [
    "# Create the columns 'fic_CHE', 'fic_IRL', 'fic_USA' in new_data\n",
    "\n",
    "new_data['fic_CHE'] = np.nan\n",
    "new_data['fic_IRL'] = np.nan\n",
    "new_data['fic_USA'] = np.nan"
   ],
   "id": "c46a7f5c601a39b7",
   "outputs": [],
   "execution_count": null
  },
  {
   "metadata": {},
   "cell_type": "code",
   "source": [
    "# Drop all columns in new_data that are not in old_data\n",
    "\n",
    "new_data = new_data[old_data.columns]"
   ],
   "id": "f1551a617e66f509",
   "outputs": [],
   "execution_count": null
  },
  {
   "metadata": {},
   "cell_type": "code",
   "source": "new_data.head()",
   "id": "cd6c94a4e22f629e",
   "outputs": [],
   "execution_count": null
  },
  {
   "metadata": {},
   "cell_type": "code",
   "source": [
    "# How many nans are in new_data?\n",
    "\n",
    "new_data.isna().sum().sum()"
   ],
   "id": "7961b4310f890a00",
   "outputs": [],
   "execution_count": null
  },
  {
   "metadata": {},
   "cell_type": "code",
   "source": [
    "# Are any duplicates in new_data?\n",
    "\n",
    "new_data.duplicated().sum()"
   ],
   "id": "60d979ac17eda04",
   "outputs": [],
   "execution_count": null
  },
  {
   "metadata": {},
   "cell_type": "code",
   "source": [
    "# drop duplicates in new_data\n",
    "\n",
    "new_data = new_data.drop_duplicates()"
   ],
   "id": "1d95d66df067b361",
   "outputs": [],
   "execution_count": null
  },
  {
   "metadata": {},
   "cell_type": "code",
   "source": [
    "new_data_cpy = new_data.copy()\n",
    "# Drop all rows where year is 2010, 2011, 2012"
   ],
   "id": "1ed7a61aa34bf3ea",
   "outputs": [],
   "execution_count": null
  },
  {
   "metadata": {},
   "cell_type": "code",
   "source": [
    "# For every row in old_data, find the corresponding row where tic=tic, year=year, quarter=quarter in new_data and overwrite the values in new_data with the values in old_data\n",
    "\n",
    "for i in range(len(old_data)):\n",
    "    tic = old_data.loc[i, 'tic']\n",
    "    year = old_data.loc[i, 'year']\n",
    "    quarter = old_data.loc[i, 'quarter']\n",
    "    row = new_data[(new_data['tic'] == tic) & (new_data['year'] == year) & (new_data['quarter'] == quarter)]\n",
    "    if len(row) == 1:\n",
    "        new_data.loc[row.index[0]] = old_data.loc[i]\n",
    "    else:\n",
    "        print(\"More than one row found\")\n",
    "        print(row)"
   ],
   "id": "5e0b3f7d0963ac8b",
   "outputs": [],
   "execution_count": null
  },
  {
   "metadata": {},
   "cell_type": "code",
   "source": "new_data.isna().sum().sum()",
   "id": "dea28657c949fcf8",
   "outputs": [],
   "execution_count": null
  },
  {
   "metadata": {},
   "cell_type": "code",
   "source": "len(new_data)",
   "id": "13f59fcdc2c8ae60",
   "outputs": [],
   "execution_count": null
  },
  {
   "metadata": {},
   "cell_type": "code",
   "source": [
    "# Get binary columns and object columns\n",
    "binary_columns = new_data.columns[new_data.nunique() == 2]\n",
    "object_columns = new_data.select_dtypes(include='object').columns"
   ],
   "id": "7bc94846c623a02b",
   "outputs": [],
   "execution_count": null
  },
  {
   "metadata": {},
   "cell_type": "code",
   "source": "print(binary_columns)",
   "id": "59d16180388de45f",
   "outputs": [],
   "execution_count": null
  },
  {
   "metadata": {},
   "cell_type": "code",
   "source": "print(object_columns)",
   "id": "75f54b0c09c3a91b",
   "outputs": [],
   "execution_count": null
  },
  {
   "metadata": {},
   "cell_type": "code",
   "source": "new_data[\"spcsrc\"].value_counts()",
   "id": "d52eb7db8d103e1",
   "outputs": [],
   "execution_count": null
  },
  {
   "metadata": {},
   "cell_type": "code",
   "source": [
    "# For all rows where spcsrc is not a number map it to {\"A+\": 1.0, \"A\": 2.0, \"A-\": 3.0, \"B+\": 4.0, \"B\": 5.0, \"B-\": 6.0, \"C\": 7.0}\n",
    "\n",
    "new_data[\"spcsrc\"] = new_data[\"spcsrc\"].replace({\"A+\": 1.0, \"A\": 2.0, \"A-\": 3.0, \"B+\": 4.0, \"B\": 5.0, \"B-\": 6.0, \"C\": 7.0, \"D\": 8.0})"
   ],
   "id": "263d39453b3bf709",
   "outputs": [],
   "execution_count": null
  },
  {
   "metadata": {},
   "cell_type": "code",
   "source": "new_data[\"spcsrc\"].value_counts()",
   "id": "36cd8739cd3ca606",
   "outputs": [],
   "execution_count": null
  },
  {
   "metadata": {},
   "cell_type": "code",
   "source": [
    "# Get all rows where spcsrc is not in range (1.0, 7.0)\n",
    "\n",
    "new_data[new_data[\"spcsrc\"] < 1.0]"
   ],
   "id": "ecff858570371f9a",
   "outputs": [],
   "execution_count": null
  },
  {
   "metadata": {},
   "cell_type": "code",
   "source": [
    "# For all rows where sprsrc is not in range (1.0, 7.0), set it to nan\n",
    "\n",
    "new_data.loc[new_data[\"spcsrc\"] < 1.0, \"spcsrc\"] = np.nan"
   ],
   "id": "bc87e3b0c261ce01",
   "outputs": [],
   "execution_count": null
  },
  {
   "metadata": {},
   "cell_type": "code",
   "source": "new_data[(new_data[\"tic\"] == \"SUN\")][[\"tic\", \"pastrating\", \"spcsrc\", \"year\", \"quarter\"]].sort_values(by=[\"year\", \"quarter\"])",
   "id": "6b13a340ed4d7ac8",
   "outputs": [],
   "execution_count": null
  },
  {
   "metadata": {},
   "cell_type": "code",
   "source": [
    "# For all rows where tic is SUN and spcrc is nan, set spcsrc to 6.0\n",
    "\n",
    "new_data.loc[(new_data[\"tic\"] == \"SUN\") & (new_data[\"spcsrc\"].isna()), \"spcsrc\"] = 6.0"
   ],
   "id": "3248bd09d22a73b",
   "outputs": [],
   "execution_count": null
  },
  {
   "metadata": {},
   "cell_type": "code",
   "source": "new_data[(new_data[\"tic\"] == \"SUN\")][[\"tic\", \"pastrating\", \"spcsrc\", \"year\", \"quarter\"]].sort_values(by=[\"year\", \"quarter\"])",
   "id": "7a51817317278c58",
   "outputs": [],
   "execution_count": null
  },
  {
   "metadata": {},
   "cell_type": "code",
   "source": [
    "# What columns contain nans?\n",
    "\n",
    "new_data.columns[new_data.isna().any()]"
   ],
   "id": "2f45fe9f92c91665",
   "outputs": [],
   "execution_count": null
  },
  {
   "metadata": {},
   "cell_type": "code",
   "source": [
    "new_data[\"costat\"] = new_data[\"costat\"].replace({\"I\": 0.0, \"A\": 1.0})\n",
    "new_data[\"curncdq\"] = new_data[\"curncdq\"].replace({\"USD\": 1.0, \"EUR\": 0.0})"
   ],
   "id": "c0bdf0246adac882",
   "outputs": [],
   "execution_count": null
  },
  {
   "metadata": {},
   "cell_type": "code",
   "source": [
    "binary_columns = new_data.columns[new_data.nunique() == 2]\n",
    "object_columns = new_data.select_dtypes(include='object').columns"
   ],
   "id": "9ffaad11e277cbee",
   "outputs": [],
   "execution_count": null
  },
  {
   "metadata": {},
   "cell_type": "code",
   "source": "print(binary_columns)",
   "id": "85075056ba95cb6d",
   "outputs": [],
   "execution_count": null
  },
  {
   "metadata": {},
   "cell_type": "code",
   "source": "print(object_columns)",
   "id": "fd3f57540a87f31a",
   "outputs": [],
   "execution_count": null
  },
  {
   "metadata": {},
   "cell_type": "code",
   "source": [
    "# Check if datadate and tic have any nans\n",
    "\n",
    "new_data[['datadate', 'tic', 'pastrating']].isna().sum()"
   ],
   "id": "b031b41b89e0de09",
   "outputs": [],
   "execution_count": null
  },
  {
   "metadata": {},
   "cell_type": "code",
   "source": [
    "# Are there any columns that are only nans?\n",
    "\n",
    "new_data.columns[new_data.isna().all()]"
   ],
   "id": "6f82ce7417e36a49",
   "outputs": [],
   "execution_count": null
  },
  {
   "metadata": {},
   "cell_type": "code",
   "source": "new_data.value_counts()",
   "id": "5ccbe50247e7de06",
   "outputs": [],
   "execution_count": null
  },
  {
   "metadata": {},
   "cell_type": "code",
   "source": "new_data.describe()",
   "id": "a8d5a1ee8fe7c0bf",
   "outputs": [],
   "execution_count": null
  },
  {
   "metadata": {},
   "cell_type": "code",
   "source": "new_data.isna().sum()",
   "id": "2548b4158f9c7e6d",
   "outputs": [],
   "execution_count": null
  },
  {
   "metadata": {},
   "cell_type": "code",
   "source": [
    "from sklearn.experimental import enable_iterative_imputer\n",
    "from sklearn.impute import IterativeImputer\n",
    "from sklearn.linear_model import BayesianRidge\n",
    "from sklearn.ensemble import RandomForestRegressor\n",
    "from sklearn.preprocessing import RobustScaler\n",
    "\n",
    "def iterative_impute(X_train, X_test, max_iter=10):\n",
    "    imputer = IterativeImputer(estimator=BayesianRidge(), max_iter=max_iter, random_state=42, verbose=2, min_value=X_train.min(), max_value=X_train.max())\n",
    "    imputer.fit(X_train)\n",
    "    imputed_data = imputer.transform(X_test)\n",
    "    imputed_df = pd.DataFrame(imputed_data, columns=X_test.columns)\n",
    "    return imputed_df"
   ],
   "id": "9f9ade4b23fd0425",
   "outputs": [],
   "execution_count": null
  },
  {
   "metadata": {},
   "cell_type": "code",
   "source": "new_data = new_data.sort_values(by='datadate').reset_index(drop=True)",
   "id": "684432a79006837c",
   "outputs": [],
   "execution_count": null
  },
  {
   "metadata": {},
   "cell_type": "code",
   "source": [
    "# Print dtypes\n",
    "\n",
    "new_data.dtypes"
   ],
   "id": "372854200fe1abbf",
   "outputs": [],
   "execution_count": null
  },
  {
   "metadata": {},
   "cell_type": "code",
   "source": [
    "# Change the dtype of curncdq, costat, spcsrc to float\n",
    "\n",
    "new_data['curncdq'] = new_data['curncdq'].astype(float)\n",
    "new_data['costat'] = new_data['costat'].astype(float)\n",
    "new_data['spcsrc'] = new_data['spcsrc'].astype(float)"
   ],
   "id": "2dab9aaf55d98805",
   "outputs": [],
   "execution_count": null
  },
  {
   "metadata": {},
   "cell_type": "code",
   "source": [
    "# Create a new df with no nans\n",
    "\n",
    "new_data_no_nans = new_data.dropna()\n",
    "new_data_only_nans = new_data[new_data.isna().any(axis=1)]"
   ],
   "id": "2894c4085aa86234",
   "outputs": [],
   "execution_count": null
  },
  {
   "metadata": {},
   "cell_type": "code",
   "source": "new_data_no_nans.isna().sum().sum()",
   "id": "eb0e4d277226c3b0",
   "outputs": [],
   "execution_count": null
  },
  {
   "metadata": {},
   "cell_type": "code",
   "source": "new_data_only_nans.isna().sum().sum()",
   "id": "6bf86cfa9a3da43f",
   "outputs": [],
   "execution_count": null
  },
  {
   "metadata": {},
   "cell_type": "code",
   "source": "new_data_only_nans",
   "id": "d81d24aa9bc77cf3",
   "outputs": [],
   "execution_count": null
  },
  {
   "metadata": {},
   "cell_type": "code",
   "source": "new_data_only_nans.isna().sum()",
   "id": "2d68b600f5516fc0",
   "outputs": [],
   "execution_count": null
  },
  {
   "metadata": {},
   "cell_type": "code",
   "source": [
    "# Get all columns except datadate and tic\n",
    "\n",
    "cols_to_impute = new_data_no_nans.columns.difference(['datadate', 'tic', 'year', 'quarter', 'pastrating'])\n",
    "X_train = new_data_no_nans[cols_to_impute].copy()\n",
    "X_test = new_data_only_nans[cols_to_impute].copy()\n"
   ],
   "id": "aa0798579c433cc",
   "outputs": [],
   "execution_count": null
  },
  {
   "metadata": {},
   "cell_type": "code",
   "source": "X_train.shape",
   "id": "6c53ae2ed1d2ec38",
   "outputs": [],
   "execution_count": null
  },
  {
   "metadata": {},
   "cell_type": "code",
   "source": "X_train",
   "id": "4762e62679af90b1",
   "outputs": [],
   "execution_count": null
  },
  {
   "metadata": {},
   "cell_type": "code",
   "source": "X_test",
   "id": "879ab7b2f79fe1d0",
   "outputs": [],
   "execution_count": null
  },
  {
   "metadata": {},
   "cell_type": "code",
   "source": "X_train.isna().sum().sum(), X_test.isna().sum().sum()",
   "id": "abbaa1419ef4e65a",
   "outputs": [],
   "execution_count": null
  },
  {
   "metadata": {},
   "cell_type": "code",
   "source": [
    "\n",
    "imputed_df = iterative_impute(X_train, X_test, 100)"
   ],
   "id": "1753479b1b6eabd4",
   "outputs": [],
   "execution_count": null
  },
  {
   "metadata": {},
   "cell_type": "code",
   "source": "new_data.describe()",
   "id": "32945532ea251fb0",
   "outputs": [],
   "execution_count": null
  },
  {
   "metadata": {},
   "cell_type": "code",
   "source": "imputed_df.describe()",
   "id": "94bbd1f70bb677ba",
   "outputs": [],
   "execution_count": null
  },
  {
   "metadata": {},
   "cell_type": "code",
   "source": "imputed_df.isna().sum().sum()",
   "id": "35a377fbb3116e85",
   "outputs": [],
   "execution_count": null
  },
  {
   "metadata": {},
   "cell_type": "code",
   "source": "new_data.shape, imputed_df.shape",
   "id": "a7b3001760ca751d",
   "outputs": [],
   "execution_count": null
  },
  {
   "metadata": {},
   "cell_type": "code",
   "source": "new_data_no_nans.index",
   "id": "9af65a251a34f72d",
   "outputs": [],
   "execution_count": null
  },
  {
   "metadata": {},
   "cell_type": "code",
   "source": "new_data_only_nans.index",
   "id": "449dcf744a8d00fe",
   "outputs": [],
   "execution_count": null
  },
  {
   "metadata": {},
   "cell_type": "code",
   "source": [
    "imputed_df.index = new_data_only_nans.index\n",
    "\n",
    "new_data_only_nans.update(imputed_df)"
   ],
   "id": "dddd39aa6366a7f6",
   "outputs": [],
   "execution_count": null
  },
  {
   "metadata": {},
   "cell_type": "code",
   "source": "new_data_only_nans.isna().sum().sum()",
   "id": "f991b6a9703b1fc3",
   "outputs": [],
   "execution_count": null
  },
  {
   "metadata": {},
   "cell_type": "code",
   "source": "new_data.isna().sum().sum()",
   "id": "302974e003ec339e",
   "outputs": [],
   "execution_count": null
  },
  {
   "metadata": {},
   "cell_type": "code",
   "source": [
    "new_data_full = pd.concat([new_data_no_nans, new_data_only_nans])\n",
    "new_data_full = new_data_full.sort_values(by='datadate').reset_index(drop=True)"
   ],
   "id": "b149b7190e5f8d9d",
   "outputs": [],
   "execution_count": null
  },
  {
   "metadata": {},
   "cell_type": "code",
   "source": "new_data_full.isna().sum().sum()",
   "id": "f2f279d6c1e18913",
   "outputs": [],
   "execution_count": null
  },
  {
   "metadata": {},
   "cell_type": "code",
   "source": "new_data_full.shape, new_data.shape",
   "id": "56d606928923e05e",
   "outputs": [],
   "execution_count": null
  },
  {
   "metadata": {},
   "cell_type": "code",
   "source": [
    "# For every tic, check if they have entries for all quarters in every year from 2010 to 2020\n",
    "\n",
    "for tic in new_data_full['tic'].unique():\n",
    "    tic_data = new_data_full[new_data_full['tic'] == tic]\n",
    "    for year in range(2010, 2021):\n",
    "        for quarter in range(1, 5):\n",
    "            if len(tic_data[(tic_data['year'] == year) & (tic_data['quarter'] == quarter)]) == 0:\n",
    "                print(f\"No entry for tic: {tic}, year: {year}, quarter: {quarter}\")"
   ],
   "id": "da139c4482fe33df",
   "outputs": [],
   "execution_count": null
  },
  {
   "metadata": {},
   "cell_type": "code",
   "source": [
    "# For every quarter in 2018 to 2020, print how many tics have entries\n",
    "\n",
    "for year in range(2018, 2021):\n",
    "    for quarter in range(1, 5):\n",
    "        print(f\"Year: {year}, Quarter: {quarter}, Tics: {len(new_data_full[(new_data_full['year'] == year) & (new_data_full['quarter'] == quarter)]['tic'].unique())}\")"
   ],
   "id": "6a6deeff70bb7e7e",
   "outputs": [],
   "execution_count": null
  },
  {
   "metadata": {},
   "cell_type": "code",
   "source": [
    "# # For each value in 'curncdq', 'costat', 'fic_CHE', 'fic_IRL', 'fic_USA' that is not 0 or 1, set it to 0 or 1 depending on which value is closer\n",
    "\n",
    "new_data_full['curncdq'] = new_data_full['curncdq'].apply(lambda x: 0 if x < 0.5 else 1)\n",
    "new_data_full['costat'] = new_data_full['costat'].apply(lambda x: 0 if x < 0.5 else 1)\n",
    "new_data_full['fic_CHE'] = new_data_full['fic_CHE'].apply(lambda x: 0 if x < 0.5 else 1)\n",
    "new_data_full['fic_IRL'] = new_data_full['fic_IRL'].apply(lambda x: 0 if x < 0.5 else 1)\n",
    "new_data_full['fic_USA'] = new_data_full['fic_USA'].apply(lambda x: 0 if x < 0.5 else 1)"
   ],
   "id": "5273c6e7a98309e6",
   "outputs": [],
   "execution_count": null
  },
  {
   "metadata": {},
   "cell_type": "code",
   "source": [
    "# What dtypes are datadate and tic?\n",
    "\n",
    "new_data_full[['datadate', 'tic']].dtypes"
   ],
   "id": "11cd3e79f6689f1e",
   "outputs": [],
   "execution_count": null
  },
  {
   "metadata": {},
   "cell_type": "code",
   "source": [
    "# Print all binary columns\n",
    "\n",
    "binary_columns = new_data_full.columns[new_data_full.nunique() == 2]\n",
    "binary_columns"
   ],
   "id": "90ccd445447e1755",
   "outputs": [],
   "execution_count": null
  },
  {
   "metadata": {},
   "cell_type": "code",
   "source": "new_data_full.describe()",
   "id": "cd4e6dcb56cd3776",
   "outputs": [],
   "execution_count": null
  },
  {
   "metadata": {},
   "cell_type": "code",
   "source": "new_data_full",
   "id": "d0bc563d0c01ca1c",
   "outputs": [],
   "execution_count": null
  },
  {
   "metadata": {},
   "cell_type": "code",
   "source": "new_data_full.isna().sum().sum()",
   "id": "42ea3ad20628ebc5",
   "outputs": [],
   "execution_count": null
  },
  {
   "metadata": {},
   "cell_type": "code",
   "source": [
    "# Check for inf values\n",
    "\n",
    "new_data_full[new_data_full == np.inf].sum().sum()"
   ],
   "id": "d0a85a8ec562060b",
   "outputs": [],
   "execution_count": null
  },
  {
   "metadata": {},
   "cell_type": "code",
   "source": "new_data_full.to_csv(\"../Data/imputed_data_new_3.csv\", index=False)",
   "id": "d204830e593cd70c",
   "outputs": [],
   "execution_count": null
  }
 ],
 "metadata": {
  "kernelspec": {
   "display_name": "Python 3",
   "language": "python",
   "name": "python3"
  },
  "language_info": {
   "codemirror_mode": {
    "name": "ipython",
    "version": 2
   },
   "file_extension": ".py",
   "mimetype": "text/x-python",
   "name": "python",
   "nbconvert_exporter": "python",
   "pygments_lexer": "ipython2",
   "version": "2.7.6"
  }
 },
 "nbformat": 4,
 "nbformat_minor": 5
}
